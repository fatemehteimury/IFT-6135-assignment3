{
  "nbformat": 4,
  "nbformat_minor": 0,
  "metadata": {
    "colab": {
      "name": "ASS3_Q1.ipynb",
      "version": "0.3.2",
      "provenance": [],
      "collapsed_sections": []
    },
    "kernelspec": {
      "name": "python3",
      "display_name": "Python 3"
    }
  },
  "cells": [
    {
      "metadata": {
        "id": "KQqHW_1cWHPG",
        "colab_type": "code",
        "outputId": "5bda04c5-d0d6-4302-b205-df5e251bebb2",
        "colab": {
          "base_uri": "https://localhost:8080/",
          "height": 200
        }
      },
      "cell_type": "code",
      "source": [
        "!wget https://raw.githubusercontent.com/CW-Huang/IFT6135H19_assignment/master/assignment3/samplers.py"
      ],
      "execution_count": 0,
      "outputs": [
        {
          "output_type": "stream",
          "text": [
            "--2019-04-22 20:54:32--  https://raw.githubusercontent.com/CW-Huang/IFT6135H19_assignment/master/assignment3/samplers.py\n",
            "Resolving raw.githubusercontent.com (raw.githubusercontent.com)... 151.101.0.133, 151.101.64.133, 151.101.128.133, ...\n",
            "Connecting to raw.githubusercontent.com (raw.githubusercontent.com)|151.101.0.133|:443... connected.\n",
            "HTTP request sent, awaiting response... 200 OK\n",
            "Length: 888 [text/plain]\n",
            "Saving to: ‘samplers.py.1’\n",
            "\n",
            "\rsamplers.py.1         0%[                    ]       0  --.-KB/s               \rsamplers.py.1       100%[===================>]     888  --.-KB/s    in 0s      \n",
            "\n",
            "2019-04-22 20:54:32 (163 MB/s) - ‘samplers.py.1’ saved [888/888]\n",
            "\n"
          ],
          "name": "stdout"
        }
      ]
    },
    {
      "metadata": {
        "id": "nHNkde0sWQVs",
        "colab_type": "code",
        "colab": {}
      },
      "cell_type": "code",
      "source": [
        "from samplers import distribution1,distribution2,distribution3,distribution4"
      ],
      "execution_count": 0,
      "outputs": []
    },
    {
      "metadata": {
        "id": "u38TiKG7zJL0",
        "colab_type": "code",
        "colab": {}
      },
      "cell_type": "code",
      "source": [
        "import torch\n",
        "import torchvision\n",
        "import torch.nn as nn\n",
        "import torch.nn.functional as F"
      ],
      "execution_count": 0,
      "outputs": []
    },
    {
      "metadata": {
        "id": "KomTIRPhzb-O",
        "colab_type": "code",
        "colab": {}
      },
      "cell_type": "code",
      "source": [
        "from torch.utils.data import DataLoader\n",
        "from torchvision import datasets\n",
        "from torchvision import transforms\n",
        "from torchvision.utils import save_image"
      ],
      "execution_count": 0,
      "outputs": []
    },
    {
      "metadata": {
        "id": "FConpG0qzhpv",
        "colab_type": "code",
        "colab": {}
      },
      "cell_type": "code",
      "source": [
        "import numpy as np\n",
        "import datetime\n",
        "import os, sys"
      ],
      "execution_count": 0,
      "outputs": []
    },
    {
      "metadata": {
        "id": "L3XKSzL-znJg",
        "colab_type": "code",
        "colab": {}
      },
      "cell_type": "code",
      "source": [
        "import matplotlib.pyplot as plt\n",
        "from matplotlib.pyplot import imshow, imsave\n",
        "%matplotlib inline"
      ],
      "execution_count": 0,
      "outputs": []
    },
    {
      "metadata": {
        "id": "0E-FhqdLv-Wo",
        "colab_type": "code",
        "outputId": "1c986c17-4eef-4a8a-870c-95ca1b1e81b4",
        "colab": {
          "base_uri": "https://localhost:8080/",
          "height": 33
        }
      },
      "cell_type": "code",
      "source": [
        "from google.colab import drive\n",
        "drive.mount('/content/drive')"
      ],
      "execution_count": 0,
      "outputs": [
        {
          "output_type": "stream",
          "text": [
            "Drive already mounted at /content/drive; to attempt to forcibly remount, call drive.mount(\"/content/drive\", force_remount=True).\n"
          ],
          "name": "stdout"
        }
      ]
    },
    {
      "metadata": {
        "id": "Y3Hf9fvvzsl-",
        "colab_type": "code",
        "colab": {}
      },
      "cell_type": "code",
      "source": [
        "device = torch.device(\"cuda\" if torch.cuda.is_available() else \"cpu\")"
      ],
      "execution_count": 0,
      "outputs": []
    },
    {
      "metadata": {
        "id": "5B_ttPwrYygX",
        "colab_type": "code",
        "colab": {}
      },
      "cell_type": "code",
      "source": [
        "class Discriminator_JS(nn.Module):\n",
        "    \"\"\"\n",
        "        Simple Discriminator w/ MLP\n",
        "    \"\"\"\n",
        "    def __init__(self, input_size=2, num_classes=1):\n",
        "        super(Discriminator_JS, self).__init__()\n",
        "        self.layer = nn.Sequential(\n",
        "            nn.Linear(input_size, 32),\n",
        "            nn.LeakyReLU(0.2),\n",
        "            #nn.Linear(32, 16),\n",
        "            #nn.LeakyReLU(0.2),\n",
        "            nn.Linear(32, 16),\n",
        "            nn.LeakyReLU(0.2),\n",
        "            nn.Linear(16, num_classes),\n",
        "            nn.Sigmoid(),\n",
        "        )\n",
        "    \n",
        "    def forward(self, x):\n",
        "        y_ = x.view(x.size(0), -1)\n",
        "        y_ = self.layer(y_)\n",
        "        return y_"
      ],
      "execution_count": 0,
      "outputs": []
    },
    {
      "metadata": {
        "id": "4zpOtgQJ4eoP",
        "colab_type": "code",
        "colab": {}
      },
      "cell_type": "code",
      "source": [
        "#Loss function\n",
        "def JSD(Dx, Dy):\n",
        "  jsd = torch.log(torch.tensor(2.)) + (1/2)*torch.mean(torch.log(Dx)) + (1/2)*torch.mean(torch.log(1-Dy))\n",
        "  jsd=jsd.to(device)\n",
        "  return -jsd\n",
        "\n"
      ],
      "execution_count": 0,
      "outputs": []
    },
    {
      "metadata": {
        "id": "Kue5PQI7q3m7",
        "colab_type": "code",
        "colab": {}
      },
      "cell_type": "code",
      "source": [
        "def init_weights_JS(m):\n",
        "    if type(m) == nn.Linear:\n",
        "        torch.nn.init.kaiming_normal_(m.weight)\n",
        "        m.bias.data.fill_(0.01)"
      ],
      "execution_count": 0,
      "outputs": []
    },
    {
      "metadata": {
        "id": "SArVguQimUxZ",
        "colab_type": "text"
      },
      "cell_type": "markdown",
      "source": [
        "**part 1.1**"
      ]
    },
    {
      "metadata": {
        "id": "tE46UvszamMj",
        "colab_type": "code",
        "outputId": "c6c66eaf-e87b-42f5-de43-7c46c5f9219d",
        "colab": {
          "base_uri": "https://localhost:8080/",
          "height": 367
        }
      },
      "cell_type": "code",
      "source": [
        "#Train loop\n",
        "batch_size = 512\n",
        "loss_JSD = []\n",
        "criterion=JSD\n",
        "\n",
        "#for epoch in range(10):\n",
        "for j in range(-10, 11):\n",
        "  D_JS = Discriminator_JS().to(device)\n",
        "  D_JS_opt= torch.optim.Adam(D_JS.parameters(), lr=0.001)\n",
        "\n",
        "  #D_JS_opt= torch.optim.SGD(D_JS.parameters(), lr=0.001)#torch.optim.Adam(D_JS.parameters(), lr=1e-3, betas=(0.5, 0.999))\n",
        "  D_JS.apply(init_weights_JS)\n",
        "  \n",
        "  for idx in range(5*1000):\n",
        "    #(x,y)=next(iter(zip(data1,data2)))  \n",
        "    x = next(iter(distribution1(0, batch_size=512)))\n",
        "    y = next(iter(distribution1(j/10, batch_size=512)))\n",
        "    \n",
        "    x=torch.from_numpy(x)\n",
        "    x=x.float()\n",
        "    x=x.to(device)\n",
        "    y=torch.from_numpy(y)\n",
        "    y=y.float()\n",
        "    y=y.to(device)\n",
        "\n",
        "\n",
        "    Dx = D_JS(x)\n",
        "    Dy = D_JS(y)\n",
        "    loss = criterion(Dx, Dy)\n",
        "    loss.to(device)\n",
        "\n",
        "    \n",
        "    loss.backward()\n",
        "    D_JS_opt.step()\n",
        "    D_JS_opt.zero_grad()\n",
        "  loss_JSD.append(-loss.item())\n",
        "  print('loss:',-loss.item())"
      ],
      "execution_count": 0,
      "outputs": [
        {
          "output_type": "stream",
          "text": [
            "loss: 0.6931391954421997\n",
            "loss: 0.6931424140930176\n",
            "loss: 0.6931426525115967\n",
            "loss: 0.6931368112564087\n",
            "loss: 0.6931414008140564\n",
            "loss: 0.6931409239768982\n",
            "loss: 0.6931359171867371\n",
            "loss: 0.6931366324424744\n",
            "loss: 0.6931369304656982\n",
            "loss: 0.693131685256958\n",
            "loss: -1.1086463928222656e-05\n",
            "loss: 0.6931231021881104\n",
            "loss: 0.69313645362854\n",
            "loss: 0.6931360960006714\n",
            "loss: 0.6931366920471191\n",
            "loss: 0.6931400895118713\n",
            "loss: 0.6931384205818176\n",
            "loss: 0.6931402683258057\n",
            "loss: 0.6931339502334595\n",
            "loss: 0.6931408047676086\n",
            "loss: 0.6931447982788086\n"
          ],
          "name": "stdout"
        }
      ]
    },
    {
      "metadata": {
        "id": "HEbaFiBBmbHD",
        "colab_type": "text"
      },
      "cell_type": "markdown",
      "source": [
        "**Part 1.2**"
      ]
    },
    {
      "metadata": {
        "id": "XNr90a0_megj",
        "colab_type": "code",
        "colab": {}
      },
      "cell_type": "code",
      "source": [
        "# loss function\n",
        "def WD(Dx, Dy, dz, lambda_=10):\n",
        "    wd = torch.mean(Dx) - torch.mean(Dy) - lambda_*torch.mean((torch.norm(dz, dim=1)-1)**2)\n",
        "    return -wd"
      ],
      "execution_count": 0,
      "outputs": []
    },
    {
      "metadata": {
        "id": "Ej8edZhTqutx",
        "colab_type": "code",
        "colab": {}
      },
      "cell_type": "code",
      "source": [
        "def init_weights_WD(m):\n",
        "    if type(m) == nn.Linear:\n",
        "        torch.nn.init.kaiming_normal_(m.weight)\n",
        "        m.bias.data.fill_(0.01)"
      ],
      "execution_count": 0,
      "outputs": []
    },
    {
      "metadata": {
        "id": "SAYAK6WrnBrJ",
        "colab_type": "code",
        "colab": {}
      },
      "cell_type": "code",
      "source": [
        "class Discriminator_WD(nn.Module):\n",
        "    \"\"\"\n",
        "        Simple Discriminator w/ MLP\n",
        "    \"\"\"\n",
        "    def __init__(self, input_size=2, num_classes=1):\n",
        "        super(Discriminator_WD, self).__init__()\n",
        "        self.layer = nn.Sequential(\n",
        "            nn.Linear(input_size, 32),\n",
        "            nn.LeakyReLU(0.2),\n",
        "            #nn.Linear(512, 256),\n",
        "            #nn.LeakyReLU(0.2),\n",
        "            nn.Linear(32, 16),\n",
        "            nn.LeakyReLU(0.2),\n",
        "            nn.Linear(16, num_classes),\n",
        "            #nn.Sigmoid(),\n",
        "        )\n",
        "    \n",
        "    def forward(self, x):\n",
        "        y_ = x.view(x.size(0), -1)\n",
        "        y_ = self.layer(y_)\n",
        "        return y_"
      ],
      "execution_count": 0,
      "outputs": []
    },
    {
      "metadata": {
        "id": "7W5jQ_r1n8VP",
        "colab_type": "code",
        "outputId": "25469a38-c089-40a2-be1c-1b4221e8882b",
        "colab": {
          "base_uri": "https://localhost:8080/",
          "height": 367
        }
      },
      "cell_type": "code",
      "source": [
        "#Train loop\n",
        "loss_WD = []\n",
        "criterion=WD\n",
        "#for epoch in range(10):\n",
        "for j in range(-10,11):\n",
        "  batch_size = 512\n",
        "  D_WD = Discriminator_WD().to(device)\n",
        "  D_WD_opt =torch.optim.Adam(D_WD.parameters(), lr=0.001)# torch.optim.RMSprop(D_WD.parameters(), lr=1e-5)\n",
        "  D_WD.apply(init_weights_WD)\n",
        "  \n",
        "  for idx in range(5*1000):\n",
        "    #(x,y)=next(iter(zip(data1,data2)))\n",
        "    x =next(iter(distribution1(0, batch_size=512)))\n",
        "    y =next(iter(distribution1(j/10, batch_size=512)))\n",
        "    a =next(iter(distribution2(batch_size=512)))\n",
        "    a.size \n",
        "        \n",
        "    x=torch.from_numpy(x)\n",
        "    x=x.float()\n",
        "    x=x.to(device)\n",
        "    y=torch.from_numpy(y)\n",
        "    y=y.float()\n",
        "    y=y.to(device)\n",
        "    a=torch.from_numpy(a)\n",
        "    a=a.float()\n",
        "    a=a.to(device)\n",
        "\n",
        "\n",
        "\n",
        "    Dx = D_WD(x)\n",
        "    Dy = D_WD(y)\n",
        "    \n",
        "    z = a*x + (1-a)*y\n",
        "    z.retain_grad()\n",
        "    z.requires_grad = True\n",
        "    Dz = D_WD(z)\n",
        "\n",
        "    \n",
        "    dz = torch.autograd.grad(Dz, z, grad_outputs=torch.ones_like(Dz), create_graph=True, retain_graph=True)[0]\n",
        "    loss = criterion(Dx, Dy, dz)\n",
        "    \n",
        "    #if idx % 1000 == 0:\n",
        "    #  print(loss.item())\n",
        "\n",
        "    loss.backward()\n",
        "    D_WD_opt.step()\n",
        "    #for ii in D_WD.parameters():\n",
        "    #  ii.data.clamp_(-0.01, 0.01)\n",
        "    D_WD_opt.zero_grad()\n",
        "  loss_WD.append(-loss.item()) \n",
        "  print('loss:',-loss.item())   "
      ],
      "execution_count": 0,
      "outputs": [
        {
          "output_type": "stream",
          "text": [
            "loss: 1.0254312753677368\n",
            "loss: 0.9204578995704651\n",
            "loss: 0.8161530494689941\n",
            "loss: 0.7123019695281982\n",
            "loss: 0.6091760993003845\n",
            "loss: 0.5054112672805786\n",
            "loss: 0.4044192135334015\n",
            "loss: 0.3022436499595642\n",
            "loss: 0.20054258406162262\n",
            "loss: 0.10022018104791641\n",
            "loss: -0.005370713770389557\n",
            "loss: 0.10002093762159348\n",
            "loss: 0.20111893117427826\n",
            "loss: 0.3022443950176239\n",
            "loss: 0.4039749205112457\n",
            "loss: 0.5063872933387756\n",
            "loss: 0.6087861657142639\n",
            "loss: 0.7121270895004272\n",
            "loss: 0.8160949945449829\n",
            "loss: 0.9216030240058899\n",
            "loss: 1.024813175201416\n"
          ],
          "name": "stdout"
        }
      ]
    },
    {
      "metadata": {
        "id": "PZH-EX_ZrStD",
        "colab_type": "text"
      },
      "cell_type": "markdown",
      "source": [
        "**Part 1-3**\n",
        "\n"
      ]
    },
    {
      "metadata": {
        "id": "7V_5WXAc33c7",
        "colab_type": "code",
        "outputId": "bcb0d3fb-784b-4ded-bbcf-f0261d7791d5",
        "colab": {
          "base_uri": "https://localhost:8080/",
          "height": 33
        }
      },
      "cell_type": "code",
      "source": [
        "from google.colab import drive\n",
        "drive.mount('/content/drive')\n",
        "path = '/content/drive/My Drive/ift6135_A3/'"
      ],
      "execution_count": 0,
      "outputs": [
        {
          "output_type": "stream",
          "text": [
            "Drive already mounted at /content/drive; to attempt to forcibly remount, call drive.mount(\"/content/drive\", force_remount=True).\n"
          ],
          "name": "stdout"
        }
      ]
    },
    {
      "metadata": {
        "id": "3463zlSS2VCA",
        "colab_type": "code",
        "outputId": "b9900781-2fbc-467c-d0cf-3e4bd8fdf3b8",
        "colab": {
          "base_uri": "https://localhost:8080/",
          "height": 295
        }
      },
      "cell_type": "code",
      "source": [
        "plt.figure()\n",
        "plt.plot([j/10 for j in range(-10,11)],loss_JSD,'ro',[j/10 for j in range(-10,11)],loss_WD, 'bo')\n",
        "plt.axis([-1.1, 1.1, -0.1, 1])\n",
        "plt.xlabel('phi')\n",
        "plt.ylabel('JSD and WD')\n",
        "plt.title('JSD and WD vs. phi')\n",
        "plt.legend(('JSD','WD'))\n",
        "plt.savefig(path+'jsd_gan_est.png')\n",
        "plt.show()\n"
      ],
      "execution_count": 0,
      "outputs": [
        {
          "output_type": "display_data",
          "data": {
            "image/png": "[encoded data removed]",
            "text/plain": [
              "<Figure size 432x288 with 1 Axes>"
            ]
          },
          "metadata": {
            "tags": []
          }
        }
      ]
    },
    {
      "metadata": {
        "id": "A3BmNR6HXC-p",
        "colab_type": "text"
      },
      "cell_type": "markdown",
      "source": [
        "**Part 1-4**"
      ]
    },
    {
      "metadata": {
        "id": "ji0OznjMXMlP",
        "colab_type": "code",
        "outputId": "902ff106-c2be-4c33-fb88-1db3d1ce6e24",
        "colab": {
          "base_uri": "https://localhost:8080/",
          "height": 50
        }
      },
      "cell_type": "code",
      "source": [
        "from __future__ import print_function\n",
        "import numpy as np\n",
        "import torch \n",
        "import matplotlib.pyplot as plt\n",
        "\n",
        "# plot p0 and p1\n",
        "plt.figure()"
      ],
      "execution_count": 0,
      "outputs": [
        {
          "output_type": "execute_result",
          "data": {
            "text/plain": [
              "<Figure size 432x288 with 0 Axes>"
            ]
          },
          "metadata": {
            "tags": []
          },
          "execution_count": 34
        },
        {
          "output_type": "display_data",
          "data": {
            "text/plain": [
              "<Figure size 432x288 with 0 Axes>"
            ]
          },
          "metadata": {
            "tags": []
          }
        }
      ]
    },
    {
      "metadata": {
        "id": "QWLEX5HCXT8j",
        "colab_type": "code",
        "outputId": "4ca15fa4-dcd3-4309-aa07-b6ef3051d482",
        "colab": {
          "base_uri": "https://localhost:8080/",
          "height": 285
        }
      },
      "cell_type": "code",
      "source": [
        "# empirical\n",
        "xx = torch.randn(10000)\n",
        "f = lambda x: torch.tanh(x*2+1) + x*0.75\n",
        "d = lambda x: (1-torch.tanh(x*2+1)**2)*2+0.75\n",
        "plt.hist(f(xx), 100, alpha=0.5, density=1)\n",
        "plt.hist(xx, 100, alpha=0.5, density=1)\n",
        "plt.xlim(-5,5)\n",
        "# exact\n",
        "xx = np.linspace(-5,5,1000)\n",
        "N = lambda x: np.exp(-x**2/2.)/((2*np.pi)**0.5)\n",
        "plt.plot(f(torch.from_numpy(xx)).numpy(), d(torch.from_numpy(xx)).numpy()**(-1)*N(xx))\n",
        "plt.plot(xx, N(xx))"
      ],
      "execution_count": 0,
      "outputs": [
        {
          "output_type": "execute_result",
          "data": {
            "text/plain": [
              "[<matplotlib.lines.Line2D at 0x7f347a86ac50>]"
            ]
          },
          "metadata": {
            "tags": []
          },
          "execution_count": 35
        },
        {
          "output_type": "display_data",
          "data": {
            "image/png": "[encoded data removed]",
            "text/plain": [
              "<Figure size 432x288 with 1 Axes>"
            ]
          },
          "metadata": {
            "tags": []
          }
        }
      ]
    },
    {
      "metadata": {
        "id": "RdeqhVYbDsZS",
        "colab_type": "code",
        "colab": {}
      },
      "cell_type": "code",
      "source": [
        "############### import the sampler ``samplers.distribution4'' \n",
        "############### train a discriminator on distribution4 and standard gaussian\n",
        "############### estimate the density of distribution4\n",
        "\n",
        "#######--- INSERT YOUR CODE BELOW ---#######\n",
        " \n",
        "#Train loop\n",
        "criterion=JSD\n",
        "\n",
        "\n",
        "D_JS = Discriminator_JS(input_size=1).to(device)\n",
        "D_JS_opt= torch.optim.Adam(D_JS.parameters(), lr=0.001)\n",
        "#D_JS_opt= torch.optim.SGD(D_JS.parameters(), lr=0.001)\n",
        "D_JS.apply(init_weights_JS)\n",
        "  \n",
        "for idx in range(7*1000):\n",
        "  #(x,y)=next(iter(zip(data1,data2)))  \n",
        "  x = next(iter(distribution4(batch_size=512)))\n",
        "  y = next(iter(distribution3(batch_size=512)))\n",
        "    \n",
        "  x=torch.from_numpy(x)\n",
        "  x=x.float()\n",
        "  x=x.to(device)\n",
        "  y=torch.from_numpy(y)\n",
        "  y=y.float()\n",
        "  y=y.to(device)\n",
        "\n",
        "\n",
        "  Dx = D_JS(x)\n",
        "  Dy = D_JS(y)\n",
        "  \n",
        "  loss = criterion(Dx, Dy)\n",
        "  loss.to(device)\n",
        "\n",
        "    \n",
        "\n",
        "  loss.backward()\n",
        "  D_JS_opt.step()\n",
        "  D_JS_opt.zero_grad()\n"
      ],
      "execution_count": 0,
      "outputs": []
    },
    {
      "metadata": {
        "id": "eb8HWScMYTvH",
        "colab_type": "code",
        "outputId": "cd1bd9dd-950d-4b25-aa40-2dad8d4e8517",
        "colab": {
          "base_uri": "https://localhost:8080/",
          "height": 282
        }
      },
      "cell_type": "code",
      "source": [
        "############### plotting things\n",
        "############### (1) plot the output of your trained discriminator \n",
        "############### (2) plot the estimated density contrasted with the true density\n",
        "\n",
        "r = D_JS(torch.from_numpy(xx).float().reshape((-1,1))).reshape(-1).detach().numpy() # evaluate xx using your discriminator; replace xx with the output\n",
        "plt.figure(figsize=(8,4))\n",
        "plt.subplot(1,2,1)\n",
        "plt.plot(xx,r)\n",
        "plt.title(r'$D(x)$')\n",
        "\n",
        "estimate = ((1/np.sqrt(2*np.pi)) * (np.e ** (-(xx**2)/2))) * r / (1 - r) # estimate the density of distribution4 (on xx) using the discriminator; \n",
        "                                # replace \"np.ones_like(xx)*0.\" with your estimate\n",
        "plt.subplot(1,2,2)\n",
        "plt.plot(xx,estimate)\n",
        "plt.plot(f(torch.from_numpy(xx)).numpy(), d(torch.from_numpy(xx)).numpy()**(-1)*N(xx))\n",
        "plt.legend(['Estimated','True'])\n",
        "plt.title('Estimated vs True')\n",
        "plt.savefig(path+'q14.png')"
      ],
      "execution_count": 0,
      "outputs": [
        {
          "output_type": "display_data",
          "data": {
            "image/png": "[encoded data removed]",
            "text/plain": [
              "<Figure size 576x288 with 2 Axes>"
            ]
          },
          "metadata": {
            "tags": []
          }
        }
      ]
    },
    {
      "metadata": {
        "id": "dOMK7quavLC_",
        "colab_type": "code",
        "colab": {}
      },
      "cell_type": "code",
      "source": [
        ""
      ],
      "execution_count": 0,
      "outputs": []
    }
  ]
}